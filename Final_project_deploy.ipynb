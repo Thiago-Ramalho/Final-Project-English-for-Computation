{
  "nbformat": 4,
  "nbformat_minor": 0,
  "metadata": {
    "colab": {
      "provenance": []
    },
    "kernelspec": {
      "name": "python3",
      "display_name": "Python 3"
    },
    "language_info": {
      "name": "python"
    },
    "widgets": {
      "application/vnd.jupyter.widget-state+json": {
        "18e4db597f08485fa6a13b78d3cee6cb": {
          "model_module": "@jupyter-widgets/controls",
          "model_name": "VBoxModel",
          "model_module_version": "1.5.0",
          "state": {
            "_dom_classes": [],
            "_model_module": "@jupyter-widgets/controls",
            "_model_module_version": "1.5.0",
            "_model_name": "VBoxModel",
            "_view_count": null,
            "_view_module": "@jupyter-widgets/controls",
            "_view_module_version": "1.5.0",
            "_view_name": "VBoxView",
            "box_style": "",
            "children": [
              "IPY_MODEL_05e4d92bac424ffc82faa3726a1642fe",
              "IPY_MODEL_5d0b8c7ee3a44d30883cab7547f8c06d",
              "IPY_MODEL_922a37f32b0048949fbdf85453783d3a",
              "IPY_MODEL_0b57cf53aae548d88c4161bd0366efa5",
              "IPY_MODEL_b719ba87615648828e1aa9b6bba518f6"
            ],
            "layout": "IPY_MODEL_ffb89c53819a462da55bd653aebdb8d9"
          }
        },
        "05e4d92bac424ffc82faa3726a1642fe": {
          "model_module": "@jupyter-widgets/controls",
          "model_name": "LabelModel",
          "model_module_version": "1.5.0",
          "state": {
            "_dom_classes": [],
            "_model_module": "@jupyter-widgets/controls",
            "_model_module_version": "1.5.0",
            "_model_name": "LabelModel",
            "_view_count": null,
            "_view_module": "@jupyter-widgets/controls",
            "_view_module_version": "1.5.0",
            "_view_name": "LabelView",
            "description": "",
            "description_tooltip": null,
            "layout": "IPY_MODEL_8d9bc63e5fe24b18b0dcc2185a0d5d6e",
            "placeholder": "​",
            "style": "IPY_MODEL_ed57e2a651a64a37b5752f52b3a5ce72",
            "value": "Upload a Gundam picture"
          }
        },
        "5d0b8c7ee3a44d30883cab7547f8c06d": {
          "model_module": "@jupyter-widgets/controls",
          "model_name": "FileUploadModel",
          "model_module_version": "1.5.0",
          "state": {
            "_counter": 1,
            "_dom_classes": [],
            "_model_module": "@jupyter-widgets/controls",
            "_model_module_version": "1.5.0",
            "_model_name": "FileUploadModel",
            "_view_count": null,
            "_view_module": "@jupyter-widgets/controls",
            "_view_module_version": "1.5.0",
            "_view_name": "FileUploadView",
            "accept": "",
            "button_style": "",
            "data": [
              null
            ],
            "description": "Upload",
            "description_tooltip": null,
            "disabled": false,
            "error": "",
            "icon": "upload",
            "layout": "IPY_MODEL_2d8abdb269fd4759b2d7ef5b52d5bf0d",
            "metadata": [
              {
                "name": "Heavyarms.jpg",
                "type": "image/jpeg",
                "size": 118056,
                "lastModified": 1673843987455
              }
            ],
            "multiple": false,
            "style": "IPY_MODEL_6d5c52fa047840d5907841d2897fc034"
          }
        },
        "922a37f32b0048949fbdf85453783d3a": {
          "model_module": "@jupyter-widgets/controls",
          "model_name": "ButtonModel",
          "model_module_version": "1.5.0",
          "state": {
            "_dom_classes": [],
            "_model_module": "@jupyter-widgets/controls",
            "_model_module_version": "1.5.0",
            "_model_name": "ButtonModel",
            "_view_count": null,
            "_view_module": "@jupyter-widgets/controls",
            "_view_module_version": "1.5.0",
            "_view_name": "ButtonView",
            "button_style": "",
            "description": "Classify",
            "disabled": false,
            "icon": "",
            "layout": "IPY_MODEL_881f5726040d4b5f9e85ec45951e0198",
            "style": "IPY_MODEL_76024a3b211f462a8bc1b41c82ff7c19",
            "tooltip": ""
          }
        },
        "0b57cf53aae548d88c4161bd0366efa5": {
          "model_module": "@jupyter-widgets/output",
          "model_name": "OutputModel",
          "model_module_version": "1.0.0",
          "state": {
            "_dom_classes": [],
            "_model_module": "@jupyter-widgets/output",
            "_model_module_version": "1.0.0",
            "_model_name": "OutputModel",
            "_view_count": null,
            "_view_module": "@jupyter-widgets/output",
            "_view_module_version": "1.0.0",
            "_view_name": "OutputView",
            "layout": "IPY_MODEL_81d86fbe3f674dc3ba979f78c1d189e9",
            "msg_id": "",
            "outputs": [
              {
                "output_type": "display_data",
                "data": {
                  "text/plain": "<PIL.Image.Image image mode=RGB size=116x128>",
                  "image/png": "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\n"
                },
                "metadata": {}
              }
            ]
          }
        },
        "b719ba87615648828e1aa9b6bba518f6": {
          "model_module": "@jupyter-widgets/controls",
          "model_name": "LabelModel",
          "model_module_version": "1.5.0",
          "state": {
            "_dom_classes": [],
            "_model_module": "@jupyter-widgets/controls",
            "_model_module_version": "1.5.0",
            "_model_name": "LabelModel",
            "_view_count": null,
            "_view_module": "@jupyter-widgets/controls",
            "_view_module_version": "1.5.0",
            "_view_name": "LabelView",
            "description": "",
            "description_tooltip": null,
            "layout": "IPY_MODEL_fca6b0560af94457977ca00eb4c27276",
            "placeholder": "​",
            "style": "IPY_MODEL_77516216719b4c5f873de11615e8e133",
            "value": "Prediction: heavyarms; Probability: 1.0000"
          }
        },
        "ffb89c53819a462da55bd653aebdb8d9": {
          "model_module": "@jupyter-widgets/base",
          "model_name": "LayoutModel",
          "model_module_version": "1.2.0",
          "state": {
            "_model_module": "@jupyter-widgets/base",
            "_model_module_version": "1.2.0",
            "_model_name": "LayoutModel",
            "_view_count": null,
            "_view_module": "@jupyter-widgets/base",
            "_view_module_version": "1.2.0",
            "_view_name": "LayoutView",
            "align_content": null,
            "align_items": null,
            "align_self": null,
            "border": null,
            "bottom": null,
            "display": null,
            "flex": null,
            "flex_flow": null,
            "grid_area": null,
            "grid_auto_columns": null,
            "grid_auto_flow": null,
            "grid_auto_rows": null,
            "grid_column": null,
            "grid_gap": null,
            "grid_row": null,
            "grid_template_areas": null,
            "grid_template_columns": null,
            "grid_template_rows": null,
            "height": null,
            "justify_content": null,
            "justify_items": null,
            "left": null,
            "margin": null,
            "max_height": null,
            "max_width": null,
            "min_height": null,
            "min_width": null,
            "object_fit": null,
            "object_position": null,
            "order": null,
            "overflow": null,
            "overflow_x": null,
            "overflow_y": null,
            "padding": null,
            "right": null,
            "top": null,
            "visibility": null,
            "width": null
          }
        },
        "8d9bc63e5fe24b18b0dcc2185a0d5d6e": {
          "model_module": "@jupyter-widgets/base",
          "model_name": "LayoutModel",
          "model_module_version": "1.2.0",
          "state": {
            "_model_module": "@jupyter-widgets/base",
            "_model_module_version": "1.2.0",
            "_model_name": "LayoutModel",
            "_view_count": null,
            "_view_module": "@jupyter-widgets/base",
            "_view_module_version": "1.2.0",
            "_view_name": "LayoutView",
            "align_content": null,
            "align_items": null,
            "align_self": null,
            "border": null,
            "bottom": null,
            "display": null,
            "flex": null,
            "flex_flow": null,
            "grid_area": null,
            "grid_auto_columns": null,
            "grid_auto_flow": null,
            "grid_auto_rows": null,
            "grid_column": null,
            "grid_gap": null,
            "grid_row": null,
            "grid_template_areas": null,
            "grid_template_columns": null,
            "grid_template_rows": null,
            "height": null,
            "justify_content": null,
            "justify_items": null,
            "left": null,
            "margin": null,
            "max_height": null,
            "max_width": null,
            "min_height": null,
            "min_width": null,
            "object_fit": null,
            "object_position": null,
            "order": null,
            "overflow": null,
            "overflow_x": null,
            "overflow_y": null,
            "padding": null,
            "right": null,
            "top": null,
            "visibility": null,
            "width": null
          }
        },
        "ed57e2a651a64a37b5752f52b3a5ce72": {
          "model_module": "@jupyter-widgets/controls",
          "model_name": "DescriptionStyleModel",
          "model_module_version": "1.5.0",
          "state": {
            "_model_module": "@jupyter-widgets/controls",
            "_model_module_version": "1.5.0",
            "_model_name": "DescriptionStyleModel",
            "_view_count": null,
            "_view_module": "@jupyter-widgets/base",
            "_view_module_version": "1.2.0",
            "_view_name": "StyleView",
            "description_width": ""
          }
        },
        "2d8abdb269fd4759b2d7ef5b52d5bf0d": {
          "model_module": "@jupyter-widgets/base",
          "model_name": "LayoutModel",
          "model_module_version": "1.2.0",
          "state": {
            "_model_module": "@jupyter-widgets/base",
            "_model_module_version": "1.2.0",
            "_model_name": "LayoutModel",
            "_view_count": null,
            "_view_module": "@jupyter-widgets/base",
            "_view_module_version": "1.2.0",
            "_view_name": "LayoutView",
            "align_content": null,
            "align_items": null,
            "align_self": null,
            "border": null,
            "bottom": null,
            "display": null,
            "flex": null,
            "flex_flow": null,
            "grid_area": null,
            "grid_auto_columns": null,
            "grid_auto_flow": null,
            "grid_auto_rows": null,
            "grid_column": null,
            "grid_gap": null,
            "grid_row": null,
            "grid_template_areas": null,
            "grid_template_columns": null,
            "grid_template_rows": null,
            "height": null,
            "justify_content": null,
            "justify_items": null,
            "left": null,
            "margin": null,
            "max_height": null,
            "max_width": null,
            "min_height": null,
            "min_width": null,
            "object_fit": null,
            "object_position": null,
            "order": null,
            "overflow": null,
            "overflow_x": null,
            "overflow_y": null,
            "padding": null,
            "right": null,
            "top": null,
            "visibility": null,
            "width": null
          }
        },
        "6d5c52fa047840d5907841d2897fc034": {
          "model_module": "@jupyter-widgets/controls",
          "model_name": "ButtonStyleModel",
          "model_module_version": "1.5.0",
          "state": {
            "_model_module": "@jupyter-widgets/controls",
            "_model_module_version": "1.5.0",
            "_model_name": "ButtonStyleModel",
            "_view_count": null,
            "_view_module": "@jupyter-widgets/base",
            "_view_module_version": "1.2.0",
            "_view_name": "StyleView",
            "button_color": null,
            "font_weight": ""
          }
        },
        "881f5726040d4b5f9e85ec45951e0198": {
          "model_module": "@jupyter-widgets/base",
          "model_name": "LayoutModel",
          "model_module_version": "1.2.0",
          "state": {
            "_model_module": "@jupyter-widgets/base",
            "_model_module_version": "1.2.0",
            "_model_name": "LayoutModel",
            "_view_count": null,
            "_view_module": "@jupyter-widgets/base",
            "_view_module_version": "1.2.0",
            "_view_name": "LayoutView",
            "align_content": null,
            "align_items": null,
            "align_self": null,
            "border": null,
            "bottom": null,
            "display": null,
            "flex": null,
            "flex_flow": null,
            "grid_area": null,
            "grid_auto_columns": null,
            "grid_auto_flow": null,
            "grid_auto_rows": null,
            "grid_column": null,
            "grid_gap": null,
            "grid_row": null,
            "grid_template_areas": null,
            "grid_template_columns": null,
            "grid_template_rows": null,
            "height": null,
            "justify_content": null,
            "justify_items": null,
            "left": null,
            "margin": null,
            "max_height": null,
            "max_width": null,
            "min_height": null,
            "min_width": null,
            "object_fit": null,
            "object_position": null,
            "order": null,
            "overflow": null,
            "overflow_x": null,
            "overflow_y": null,
            "padding": null,
            "right": null,
            "top": null,
            "visibility": null,
            "width": null
          }
        },
        "76024a3b211f462a8bc1b41c82ff7c19": {
          "model_module": "@jupyter-widgets/controls",
          "model_name": "ButtonStyleModel",
          "model_module_version": "1.5.0",
          "state": {
            "_model_module": "@jupyter-widgets/controls",
            "_model_module_version": "1.5.0",
            "_model_name": "ButtonStyleModel",
            "_view_count": null,
            "_view_module": "@jupyter-widgets/base",
            "_view_module_version": "1.2.0",
            "_view_name": "StyleView",
            "button_color": null,
            "font_weight": ""
          }
        },
        "fca6b0560af94457977ca00eb4c27276": {
          "model_module": "@jupyter-widgets/base",
          "model_name": "LayoutModel",
          "model_module_version": "1.2.0",
          "state": {
            "_model_module": "@jupyter-widgets/base",
            "_model_module_version": "1.2.0",
            "_model_name": "LayoutModel",
            "_view_count": null,
            "_view_module": "@jupyter-widgets/base",
            "_view_module_version": "1.2.0",
            "_view_name": "LayoutView",
            "align_content": null,
            "align_items": null,
            "align_self": null,
            "border": null,
            "bottom": null,
            "display": null,
            "flex": null,
            "flex_flow": null,
            "grid_area": null,
            "grid_auto_columns": null,
            "grid_auto_flow": null,
            "grid_auto_rows": null,
            "grid_column": null,
            "grid_gap": null,
            "grid_row": null,
            "grid_template_areas": null,
            "grid_template_columns": null,
            "grid_template_rows": null,
            "height": null,
            "justify_content": null,
            "justify_items": null,
            "left": null,
            "margin": null,
            "max_height": null,
            "max_width": null,
            "min_height": null,
            "min_width": null,
            "object_fit": null,
            "object_position": null,
            "order": null,
            "overflow": null,
            "overflow_x": null,
            "overflow_y": null,
            "padding": null,
            "right": null,
            "top": null,
            "visibility": null,
            "width": null
          }
        },
        "77516216719b4c5f873de11615e8e133": {
          "model_module": "@jupyter-widgets/controls",
          "model_name": "DescriptionStyleModel",
          "model_module_version": "1.5.0",
          "state": {
            "_model_module": "@jupyter-widgets/controls",
            "_model_module_version": "1.5.0",
            "_model_name": "DescriptionStyleModel",
            "_view_count": null,
            "_view_module": "@jupyter-widgets/base",
            "_view_module_version": "1.2.0",
            "_view_name": "StyleView",
            "description_width": ""
          }
        },
        "81d86fbe3f674dc3ba979f78c1d189e9": {
          "model_module": "@jupyter-widgets/base",
          "model_name": "LayoutModel",
          "model_module_version": "1.2.0",
          "state": {
            "_model_module": "@jupyter-widgets/base",
            "_model_module_version": "1.2.0",
            "_model_name": "LayoutModel",
            "_view_count": null,
            "_view_module": "@jupyter-widgets/base",
            "_view_module_version": "1.2.0",
            "_view_name": "LayoutView",
            "align_content": null,
            "align_items": null,
            "align_self": null,
            "border": null,
            "bottom": null,
            "display": null,
            "flex": null,
            "flex_flow": null,
            "grid_area": null,
            "grid_auto_columns": null,
            "grid_auto_flow": null,
            "grid_auto_rows": null,
            "grid_column": null,
            "grid_gap": null,
            "grid_row": null,
            "grid_template_areas": null,
            "grid_template_columns": null,
            "grid_template_rows": null,
            "height": null,
            "justify_content": null,
            "justify_items": null,
            "left": null,
            "margin": null,
            "max_height": null,
            "max_width": null,
            "min_height": null,
            "min_width": null,
            "object_fit": null,
            "object_position": null,
            "order": null,
            "overflow": null,
            "overflow_x": null,
            "overflow_y": null,
            "padding": null,
            "right": null,
            "top": null,
            "visibility": null,
            "width": null
          }
        }
      }
    }
  },
  "cells": [
    {
      "cell_type": "code",
      "execution_count": 1,
      "metadata": {
        "id": "nDwinyNFvAeb"
      },
      "outputs": [],
      "source": [
        "from fastai.vision.all import *\n",
        "from fastai.vision.widgets import *"
      ]
    },
    {
      "cell_type": "code",
      "source": [
        "!pip install voila\n",
        "!jupyter serverextension enable voila --sys-prefix"
      ],
      "metadata": {
        "colab": {
          "base_uri": "https://localhost:8080/"
        },
        "id": "1aFJ2MyivmPB",
        "outputId": "84b56c1f-c190-4627-8789-6d22ec9ac44f"
      },
      "execution_count": 2,
      "outputs": [
        {
          "output_type": "stream",
          "name": "stdout",
          "text": [
            "Looking in indexes: https://pypi.org/simple, https://us-python.pkg.dev/colab-wheels/public/simple/\n",
            "Requirement already satisfied: voila in /usr/local/lib/python3.9/dist-packages (0.4.0)\n",
            "Requirement already satisfied: jupyter-client<=7.4.1,>=6.1.3 in /usr/local/lib/python3.9/dist-packages (from voila) (6.1.12)\n",
            "Requirement already satisfied: websockets>=9.0 in /usr/local/lib/python3.9/dist-packages (from voila) (11.0.2)\n",
            "Requirement already satisfied: jupyter-core>=4.11.0 in /usr/local/lib/python3.9/dist-packages (from voila) (5.3.0)\n",
            "Requirement already satisfied: jupyterlab-server<3,>=2.3.0 in /usr/local/lib/python3.9/dist-packages (from voila) (2.22.1)\n",
            "Requirement already satisfied: nbclient<0.8,>=0.4.0 in /usr/local/lib/python3.9/dist-packages (from voila) (0.7.3)\n",
            "Requirement already satisfied: traitlets<6,>=5.0.3 in /usr/local/lib/python3.9/dist-packages (from voila) (5.7.1)\n",
            "Requirement already satisfied: jupyter-server<2.0.0,>=1.18 in /usr/local/lib/python3.9/dist-packages (from voila) (1.24.0)\n",
            "Requirement already satisfied: nbconvert<8,>=6.4.5 in /usr/local/lib/python3.9/dist-packages (from voila) (6.5.4)\n",
            "Requirement already satisfied: pyzmq>=13 in /usr/local/lib/python3.9/dist-packages (from jupyter-client<=7.4.1,>=6.1.3->voila) (23.2.1)\n",
            "Requirement already satisfied: tornado>=4.1 in /usr/local/lib/python3.9/dist-packages (from jupyter-client<=7.4.1,>=6.1.3->voila) (6.2)\n",
            "Requirement already satisfied: python-dateutil>=2.1 in /usr/local/lib/python3.9/dist-packages (from jupyter-client<=7.4.1,>=6.1.3->voila) (2.8.2)\n",
            "Requirement already satisfied: platformdirs>=2.5 in /usr/local/lib/python3.9/dist-packages (from jupyter-core>=4.11.0->voila) (3.2.0)\n",
            "Requirement already satisfied: websocket-client in /usr/local/lib/python3.9/dist-packages (from jupyter-server<2.0.0,>=1.18->voila) (1.5.1)\n",
            "Requirement already satisfied: terminado>=0.8.3 in /usr/local/lib/python3.9/dist-packages (from jupyter-server<2.0.0,>=1.18->voila) (0.17.1)\n",
            "Requirement already satisfied: argon2-cffi in /usr/local/lib/python3.9/dist-packages (from jupyter-server<2.0.0,>=1.18->voila) (21.3.0)\n",
            "Requirement already satisfied: nbformat>=5.2.0 in /usr/local/lib/python3.9/dist-packages (from jupyter-server<2.0.0,>=1.18->voila) (5.8.0)\n",
            "Requirement already satisfied: prometheus-client in /usr/local/lib/python3.9/dist-packages (from jupyter-server<2.0.0,>=1.18->voila) (0.16.0)\n",
            "Requirement already satisfied: packaging in /usr/local/lib/python3.9/dist-packages (from jupyter-server<2.0.0,>=1.18->voila) (23.1)\n",
            "Requirement already satisfied: anyio<4,>=3.1.0 in /usr/local/lib/python3.9/dist-packages (from jupyter-server<2.0.0,>=1.18->voila) (3.6.2)\n",
            "Requirement already satisfied: jinja2 in /usr/local/lib/python3.9/dist-packages (from jupyter-server<2.0.0,>=1.18->voila) (3.1.2)\n",
            "Requirement already satisfied: Send2Trash in /usr/local/lib/python3.9/dist-packages (from jupyter-server<2.0.0,>=1.18->voila) (1.8.0)\n",
            "Requirement already satisfied: jsonschema>=4.17.3 in /usr/local/lib/python3.9/dist-packages (from jupyterlab-server<3,>=2.3.0->voila) (4.17.3)\n",
            "Requirement already satisfied: requests>=2.28 in /usr/local/lib/python3.9/dist-packages (from jupyterlab-server<3,>=2.3.0->voila) (2.28.2)\n",
            "Requirement already satisfied: json5>=0.9.0 in /usr/local/lib/python3.9/dist-packages (from jupyterlab-server<3,>=2.3.0->voila) (0.9.11)\n",
            "Requirement already satisfied: babel>=2.10 in /usr/local/lib/python3.9/dist-packages (from jupyterlab-server<3,>=2.3.0->voila) (2.12.1)\n",
            "Requirement already satisfied: importlib-metadata>=4.8.3 in /usr/local/lib/python3.9/dist-packages (from jupyterlab-server<3,>=2.3.0->voila) (6.4.1)\n",
            "Requirement already satisfied: mistune<2,>=0.8.1 in /usr/local/lib/python3.9/dist-packages (from nbconvert<8,>=6.4.5->voila) (0.8.4)\n",
            "Requirement already satisfied: defusedxml in /usr/local/lib/python3.9/dist-packages (from nbconvert<8,>=6.4.5->voila) (0.7.1)\n",
            "Requirement already satisfied: entrypoints>=0.2.2 in /usr/local/lib/python3.9/dist-packages (from nbconvert<8,>=6.4.5->voila) (0.4)\n",
            "Requirement already satisfied: bleach in /usr/local/lib/python3.9/dist-packages (from nbconvert<8,>=6.4.5->voila) (6.0.0)\n",
            "Requirement already satisfied: jupyterlab-pygments in /usr/local/lib/python3.9/dist-packages (from nbconvert<8,>=6.4.5->voila) (0.2.2)\n",
            "Requirement already satisfied: tinycss2 in /usr/local/lib/python3.9/dist-packages (from nbconvert<8,>=6.4.5->voila) (1.2.1)\n",
            "Requirement already satisfied: lxml in /usr/local/lib/python3.9/dist-packages (from nbconvert<8,>=6.4.5->voila) (4.9.2)\n",
            "Requirement already satisfied: pandocfilters>=1.4.1 in /usr/local/lib/python3.9/dist-packages (from nbconvert<8,>=6.4.5->voila) (1.5.0)\n",
            "Requirement already satisfied: MarkupSafe>=2.0 in /usr/local/lib/python3.9/dist-packages (from nbconvert<8,>=6.4.5->voila) (2.1.2)\n",
            "Requirement already satisfied: beautifulsoup4 in /usr/local/lib/python3.9/dist-packages (from nbconvert<8,>=6.4.5->voila) (4.11.2)\n",
            "Requirement already satisfied: pygments>=2.4.1 in /usr/local/lib/python3.9/dist-packages (from nbconvert<8,>=6.4.5->voila) (2.14.0)\n",
            "Requirement already satisfied: sniffio>=1.1 in /usr/local/lib/python3.9/dist-packages (from anyio<4,>=3.1.0->jupyter-server<2.0.0,>=1.18->voila) (1.3.0)\n",
            "Requirement already satisfied: idna>=2.8 in /usr/local/lib/python3.9/dist-packages (from anyio<4,>=3.1.0->jupyter-server<2.0.0,>=1.18->voila) (3.4)\n",
            "Requirement already satisfied: zipp>=0.5 in /usr/local/lib/python3.9/dist-packages (from importlib-metadata>=4.8.3->jupyterlab-server<3,>=2.3.0->voila) (3.15.0)\n",
            "Requirement already satisfied: pyrsistent!=0.17.0,!=0.17.1,!=0.17.2,>=0.14.0 in /usr/local/lib/python3.9/dist-packages (from jsonschema>=4.17.3->jupyterlab-server<3,>=2.3.0->voila) (0.19.3)\n",
            "Requirement already satisfied: attrs>=17.4.0 in /usr/local/lib/python3.9/dist-packages (from jsonschema>=4.17.3->jupyterlab-server<3,>=2.3.0->voila) (23.1.0)\n",
            "Requirement already satisfied: fastjsonschema in /usr/local/lib/python3.9/dist-packages (from nbformat>=5.2.0->jupyter-server<2.0.0,>=1.18->voila) (2.16.3)\n",
            "Requirement already satisfied: six>=1.5 in /usr/local/lib/python3.9/dist-packages (from python-dateutil>=2.1->jupyter-client<=7.4.1,>=6.1.3->voila) (1.16.0)\n",
            "Requirement already satisfied: certifi>=2017.4.17 in /usr/local/lib/python3.9/dist-packages (from requests>=2.28->jupyterlab-server<3,>=2.3.0->voila) (2022.12.7)\n",
            "Requirement already satisfied: charset-normalizer<4,>=2 in /usr/local/lib/python3.9/dist-packages (from requests>=2.28->jupyterlab-server<3,>=2.3.0->voila) (2.0.12)\n",
            "Requirement already satisfied: urllib3<1.27,>=1.21.1 in /usr/local/lib/python3.9/dist-packages (from requests>=2.28->jupyterlab-server<3,>=2.3.0->voila) (1.26.15)\n",
            "Requirement already satisfied: ptyprocess in /usr/local/lib/python3.9/dist-packages (from terminado>=0.8.3->jupyter-server<2.0.0,>=1.18->voila) (0.7.0)\n",
            "Requirement already satisfied: argon2-cffi-bindings in /usr/local/lib/python3.9/dist-packages (from argon2-cffi->jupyter-server<2.0.0,>=1.18->voila) (21.2.0)\n",
            "Requirement already satisfied: soupsieve>1.2 in /usr/local/lib/python3.9/dist-packages (from beautifulsoup4->nbconvert<8,>=6.4.5->voila) (2.4.1)\n",
            "Requirement already satisfied: webencodings in /usr/local/lib/python3.9/dist-packages (from bleach->nbconvert<8,>=6.4.5->voila) (0.5.1)\n",
            "Requirement already satisfied: cffi>=1.0.1 in /usr/local/lib/python3.9/dist-packages (from argon2-cffi-bindings->argon2-cffi->jupyter-server<2.0.0,>=1.18->voila) (1.15.1)\n",
            "Requirement already satisfied: pycparser in /usr/local/lib/python3.9/dist-packages (from cffi>=1.0.1->argon2-cffi-bindings->argon2-cffi->jupyter-server<2.0.0,>=1.18->voila) (2.21)\n",
            "Enabling: voila\n",
            "- Writing config: /usr/etc/jupyter\n",
            "    - Validating...\n",
            "      voila 0.4.0 \u001b[32mOK\u001b[0m\n"
          ]
        }
      ]
    },
    {
      "cell_type": "code",
      "source": [
        "path = Path()\n",
        "learn_inf = load_learner(path/'export.pkl')\n",
        "btn_upload = widgets.FileUpload()\n",
        "out_pl = widgets.Output()\n",
        "lbl_pred = widgets.Label()\n",
        "btn_run = widgets.Button(description='Classify')"
      ],
      "metadata": {
        "id": "xefHE4LVLD5F"
      },
      "execution_count": 3,
      "outputs": []
    },
    {
      "cell_type": "code",
      "source": [
        "def on_click_classify(change):\n",
        "    img = PILImage.create(btn_upload.data[-1])\n",
        "    out_pl.clear_output()\n",
        "    with out_pl: display(img.to_thumb(128,128))\n",
        "    pred,pred_idx,probs = learn_inf.predict(img)\n",
        "    lbl_pred.value = f'Prediction: {pred}; Probability: {probs[pred_idx]:.04f}'\n",
        "\n",
        "btn_run.on_click(on_click_classify)"
      ],
      "metadata": {
        "id": "KTQGWjWQLNUd"
      },
      "execution_count": 8,
      "outputs": []
    },
    {
      "cell_type": "code",
      "source": [
        "VBox([widgets.Label('Upload a Gundam picture'), \n",
        "      btn_upload, btn_run, out_pl, lbl_pred])"
      ],
      "metadata": {
        "colab": {
          "base_uri": "https://localhost:8080/",
          "height": 273,
          "referenced_widgets": [
            "18e4db597f08485fa6a13b78d3cee6cb",
            "05e4d92bac424ffc82faa3726a1642fe",
            "5d0b8c7ee3a44d30883cab7547f8c06d",
            "922a37f32b0048949fbdf85453783d3a",
            "0b57cf53aae548d88c4161bd0366efa5",
            "b719ba87615648828e1aa9b6bba518f6",
            "ffb89c53819a462da55bd653aebdb8d9",
            "8d9bc63e5fe24b18b0dcc2185a0d5d6e",
            "ed57e2a651a64a37b5752f52b3a5ce72",
            "2d8abdb269fd4759b2d7ef5b52d5bf0d",
            "6d5c52fa047840d5907841d2897fc034",
            "881f5726040d4b5f9e85ec45951e0198",
            "76024a3b211f462a8bc1b41c82ff7c19",
            "fca6b0560af94457977ca00eb4c27276",
            "77516216719b4c5f873de11615e8e133",
            "81d86fbe3f674dc3ba979f78c1d189e9"
          ]
        },
        "id": "XuqLLVC5LPvv",
        "outputId": "00a7e9ed-e143-4910-9fc0-2eda5ae63bfa"
      },
      "execution_count": 9,
      "outputs": [
        {
          "output_type": "display_data",
          "data": {
            "text/plain": [
              "VBox(children=(Label(value='Upload a Gundam picture'), FileUpload(value={'Heavyarms.jpg': {'metadata': {'name'…"
            ],
            "application/vnd.jupyter.widget-view+json": {
              "version_major": 2,
              "version_minor": 0,
              "model_id": "18e4db597f08485fa6a13b78d3cee6cb"
            }
          },
          "metadata": {}
        }
      ]
    }
  ]
}