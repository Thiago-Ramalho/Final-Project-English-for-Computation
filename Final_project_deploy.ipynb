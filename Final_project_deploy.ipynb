{
  "nbformat": 4,
  "nbformat_minor": 0,
  "metadata": {
    "colab": {
      "provenance": []
    },
    "kernelspec": {
      "name": "python3",
      "display_name": "Python 3"
    },
    "language_info": {
      "name": "python"
    }
  },
  "cells": [
    {
      "cell_type": "markdown",
      "source": [
        "For this project, I chose the option to deploy my image classifier as an webpage"
      ],
      "metadata": {
        "id": "C-2H8vFbYKXF"
      }
    },
    {
      "cell_type": "code",
      "execution_count": null,
      "metadata": {
        "id": "nDwinyNFvAeb"
      },
      "outputs": [],
      "source": [
        "from fastai.vision.all import *\n",
        "from fastai.vision.widgets import *"
      ]
    },
    {
      "cell_type": "code",
      "source": [
        "!pip install voila\n",
        "!jupyter serverextension enable voila --sys-prefix"
      ],
      "metadata": {
        "id": "1aFJ2MyivmPB"
      },
      "execution_count": null,
      "outputs": []
    },
    {
      "cell_type": "markdown",
      "source": [
        "## WELCOME TO THE GUNDAM DETECTOR!!"
      ],
      "metadata": {
        "id": "qqYgk-WBVHzd"
      }
    },
    {
      "cell_type": "markdown",
      "source": [
        "#Gundams are gigantic robotic suits that appear in the long-running anime franchise Mobile Suit Gundam (Sunrise - 1979). Each different pilotable robot has it's own name and unique design. Upload a photo of one of those following gundams: Gundam Wing, Gundam Deathscythe or Gundam Heavyarms, and the following classifier will detect which gundam it is."
      ],
      "metadata": {
        "id": "jfgeKFO2VYHB"
      }
    },
    {
      "cell_type": "code",
      "source": [
        "path = Path()\n",
        "#Used to find the model file\n",
        "\n",
        "learn_inf = load_learner(path/'export.pkl', cpu=True)\n",
        "#Loads the pretrained image classifier\n",
        "\n",
        "btn_upload = widgets.FileUpload()\n",
        "#Creation of the upload button\n",
        "\n",
        "#out_pl = widgets.Output()\n",
        "#Object responsible for displaying the output of the inference.\n",
        "\n",
        "lbl_pred = widgets.Label()\n",
        "#Object responsibler for displaying the predicted class."
      ],
      "metadata": {
        "id": "xefHE4LVLD5F"
      },
      "execution_count": null,
      "outputs": []
    },
    {
      "cell_type": "code",
      "source": [
        "def image_detector(change):\n",
        "    lbl_pred.value = '' \n",
        "    # Resets the lbl_pred widget to a blank string\n",
        "    \n",
        "    image_bytes = btn_upload.value[0][\"content\"]\n",
        "    # Retrieves the bytes content of the uploaded image from the btn_upload widget\n",
        "\n",
        "    img = Image.open(io.BytesIO(image_bytes))\n",
        "    # Creates an image object from the uploaded image bytes\n",
        "    \n",
        "    out_pl.clear_output()\n",
        "    # Clears the out_pl widget \n",
        "\n",
        "    with out_pl: display(img.to_thumb(128,128))\n",
        "    # Displays a thumbnail n of the uploaded image\n",
        "\n",
        "    pred,pred_idx,probs = learn_inf.predict(img)\n",
        "    # Predicts the class of the uploaded image and the probabilities of each class\n",
        "\n",
        "    lbl_pred.value = f'Prediction: {pred}; Probability: {probs[pred_idx]:.04f}'\n",
        "    # Displays the predicted class and the probability of that class,"
      ],
      "metadata": {
        "id": "KTQGWjWQLNUd"
      },
      "execution_count": null,
      "outputs": []
    },
    {
      "cell_type": "code",
      "source": [
        "btn_upload.observe(image_detector, names=['data'])\n",
        "#Configurates the observer, which will call the image_detector function when it detects a picture was uploaded\n",
        "\n",
        "out_pl = widgets.Output()\n",
        "#Object responsible for displaying the output of the inference\n",
        "\n",
        "display(VBox([widgets.Label('Upload a picture of a Gundam:'), btn_upload, out_pl, lbl_pred]))\n",
        "#Displays the upload interface\n",
        "\n",
        "btn_run = widgets.Button(description='Categorize')\n",
        "#Creates the button that triggers the classification proccess"
      ],
      "metadata": {
        "id": "G4HojprX8osI"
      },
      "execution_count": null,
      "outputs": []
    },
    {
      "cell_type": "code",
      "source": [
        "btn_run"
      ],
      "metadata": {
        "id": "4f5uxlD18u9n"
      },
      "execution_count": null,
      "outputs": []
    },
    {
      "cell_type": "code",
      "source": [
        "btn_run.on_click(image_detector)"
      ],
      "metadata": {
        "id": "L6xo-0eP8wS6"
      },
      "execution_count": null,
      "outputs": []
    }
  ]
}